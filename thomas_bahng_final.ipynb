{
 "nbformat": 4,
 "nbformat_minor": 2,
 "metadata": {
  "language_info": {
   "name": "python",
   "codemirror_mode": {
    "name": "ipython",
    "version": 3
   },
   "version": "3.6.5-final"
  },
  "orig_nbformat": 2,
  "file_extension": ".py",
  "mimetype": "text/x-python",
  "name": "python",
  "npconvert_exporter": "python",
  "pygments_lexer": "ipython3",
  "version": 3,
  "kernelspec": {
   "name": "python36564bitbasecondacd90c988128e4e428ceb9fe9a1123e59",
   "display_name": "Python 3.6.5 64-bit ('base': conda)"
  }
 },
 "cells": [
  {
   "cell_type": "markdown",
   "metadata": {},
   "source": [
    "# IST 664 Final Project - SPAM Classification\n",
    "## Date: March 24, 2020\n",
    "## Author:\n",
    "* Thomas Bahng\n",
    "## Public GitHub repository\n",
    "* [https://github.com/tbahng/ist664-NLP-and-Classification](https://github.com/tbahng/ist664-NLP-and-Classification)"
   ]
  },
  {
   "cell_type": "code",
   "execution_count": 1,
   "metadata": {},
   "outputs": [],
   "source": [
    "import pandas as pd \n",
    "import numpy as np \n",
    "import nltk\n",
    "from nltk import FreqDist, word_tokenize, bigrams\n",
    "from nltk.collocations import BigramAssocMeasures, BigramCollocationFinder, TrigramAssocMeasures, TrigramCollocationFinder\n",
    "from nltk.corpus import PlaintextCorpusReader\n",
    "from nltk.text import Text \n",
    "from sklearn.model_selection import train_test_split\n",
    "from sklearn.naive_bayes import MultinomialNB\n",
    "from sklearn.metrics import confusion_matrix\n",
    "import matplotlib.pyplot as plt \n",
    "%matplotlib inline\n",
    "import seaborn as sns\n",
    "sns.set(style = 'white')\n",
    "sns.set(style = 'whitegrid', color_codes = True)\n",
    "import random"
   ]
  },
  {
   "cell_type": "markdown",
   "metadata": {},
   "source": [
    "# Introduction\n",
    "SPAM filtering is a commonplace task for most email applications. For the user it saves time and clutter, and mitigates the risk of harm. SPAM emails may contain viruses, phishing schemes, and other embarassing content that is not safe for work. This an especially important task in an age where hacking and information security are large concerns for companies and individuals.\n",
    "\n",
    "Some applications like Microsoft Outlook or Google Mail let the user define SPAM emails to look out for. \"Mail filters have varying degrees of configurability. Sometimes they make decisions based on matching a regular expression. Other times, code may match keywords in the message body, or perhaps the email address of the sender of the message...Some more advanced filters, particularly anti-spam filters, use statistical document classification techniques such as the naive Bayes classifier.\" [https://en.wikipedia.org/wiki/Email_filtering](https://en.wikipedia.org/wiki/Email_filtering)\n",
    "\n",
    "The objective of this project is to demonstrate classification of SPAM in a repository of emails using NLP techniques and toolkits. It will include an exploration of emails and multiple experiments that compare feature sets to determine which combination makes for the best SPAM detection application. Each experiment will rely on pre-processing, feature engineering and classification modeling specific to the scenario.\n",
    "\n",
    "In addition to this report, a Python program file \"classifySPAM.py\" includes the relevant processing steps to reproduce results and is packaged together as part of the deliverable. Special acknowledgement goes to the main instructor Nancy McCraken in providing baseline code for \"classifySPAM.py\" and data."
   ]
  },
  {
   "cell_type": "markdown",
   "metadata": {},
   "source": [
    "# Analysis\n",
    "The following steps outline the process for this demonstration:\n",
    "* About the Data\n",
    "* Data Cleaning\n",
    "* Exploration\n",
    "    * Corpus Statistics\n",
    "    * Visualizations\n",
    "* Modeling\n",
    "    * Feature Engineering\n",
    "    * Classifiers"
   ]
  },
  {
   "cell_type": "markdown",
   "metadata": {},
   "source": [
    "## About the Data\n",
    "The original data is available on this [web site](http://www.aueb.gr/users/ion/data/enron-spam/).\n",
    "\n",
    "Curated data was provided for detecting Spam emails from the Enron public email corpus. The non-Spam emails are labeled “ham”. (See [this paper](http://www.aueb.gr/users/ion/docs/ceas2006_paper.pdf) for details) \n",
    "\n",
    "In addition to some small numbers of Spam already in the corpus, additional spam emails were introduced into each user’s email stream in order to have a sufficient number of spam examples to train a classifier. The repository of data consists of 3,672 regular emails in the “ham” folder, and 1,500 emails in the “spam” folder.\n",
    "\n",
    "The following directory structure is recommended to support this notebook and the relevant program:\n",
    "* Project\n",
    "    * thomas_bahng_final.ipynb + classifySPAM.py\n",
    "        * corpus\n",
    "            * ham \n",
    "            * spam "
   ]
  },
  {
   "cell_type": "markdown",
   "metadata": {},
   "source": [
    "## Data Cleaning\n",
    "Lorum ipsum...."
   ]
  },
  {
   "cell_type": "markdown",
   "metadata": {},
   "source": [
    "## Exploration\n",
    "Lorum ipsum...."
   ]
  },
  {
   "cell_type": "markdown",
   "metadata": {},
   "source": [
    "## Modeling\n",
    "Lorum ipsum...."
   ]
  },
  {
   "cell_type": "markdown",
   "metadata": {},
   "source": [
    "# Results\n",
    "\n",
    "Lorum ipsum...."
   ]
  },
  {
   "cell_type": "markdown",
   "metadata": {},
   "source": [
    "# Conclusion\n",
    "\n",
    "Lorum ipsum...."
   ]
  },
  {
   "cell_type": "code",
   "execution_count": null,
   "metadata": {},
   "outputs": [],
   "source": []
  }
 ]
}